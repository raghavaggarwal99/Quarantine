{
 "cells": [
  {
   "cell_type": "code",
   "execution_count": 4,
   "metadata": {},
   "outputs": [],
   "source": [
    "from nltk.corpus import stopwords\n",
    "from nltk.tokenize import word_tokenize\n",
    "from nltk.stem import PorterStemmer\n",
    "from collections import Counter\n",
    "from num2words import num2words\n",
    "\n",
    "import nltk\n",
    "import os\n",
    "import string\n",
    "import numpy as np\n",
    "import copy\n",
    "import pandas as pd\n",
    "import pickle\n",
    "import re\n",
    "import math\n",
    "\n",
    "\n"
   ]
  },
  {
   "cell_type": "code",
   "execution_count": null,
   "metadata": {},
   "outputs": [],
   "source": []
  },
  {
   "cell_type": "code",
   "execution_count": 5,
   "metadata": {},
   "outputs": [],
   "source": [
    "from nltk.corpus import stopwords\n",
    "from nltk.tokenize import word_tokenize\n",
    "from nltk.stem import PorterStemmer\n",
    "from collections import Counter\n",
    "from num2words import num2words\n",
    "\n",
    "import nltk\n",
    "import os\n",
    "import string\n",
    "import numpy as np\n",
    "import copy\n",
    "import pandas as pd\n",
    "import pickle\n",
    "import re\n",
    "import math\n"
   ]
  },
  {
   "cell_type": "code",
   "execution_count": null,
   "metadata": {},
   "outputs": [],
   "source": []
  },
  {
   "cell_type": "code",
   "execution_count": 6,
   "metadata": {},
   "outputs": [],
   "source": [
    "title = \"stories\"\n",
    "alpha = 0.3"
   ]
  },
  {
   "cell_type": "code",
   "execution_count": 7,
   "metadata": {},
   "outputs": [
    {
     "data": {
      "text/plain": [
       "'<HTML>\\n<TITLE>T E X T F I L E S</TITLE>\\n<BODY BGCOLOR=\"#000000\" TEXT=\"#00FF00\" LINK=\"#00FF00\" ALINK=\"#00AA00\" VLINK=\"#00AA00\">\\n<H1>Stories: SRE: The Solar Realms Elite Stories</H1>\\n<P>\\nJosh Renaud writes\"It\\'s been 10 years since I first wrote these stories and uploaded them to the file sections of several St. Louis BBSes. I was about 13 or 14 years old at the time.  The first three stories (SRE I-III) were narrative descriptions of an actual game of Solar Realms Elite played on the Knight\\'s Armor BBS. It really was a great game, though these early stories didn\\'t do it much justice.  People did read and download the stories and a few of them encouraged me to write more. So I did. The subsequent stories came solely from my imagination, except \"Feqh Galaxy\" and \"Galaxy Sei,\" which were both based on games I participated in.\"\\n<P>\\n\"Since I was a kid, my writing had a lot of room for improvement. Equally funny as the writing itself is the massive imaginary fan base I addressed in almost every story. The first three stories were clearly an attempt to exalt myself, since I felt my deserved glory had been stolen.  I also wrote a document about trade and economics in the game itself. This was mostly a theoretical document, and doesn\\'t have much practical value. In the years after I wrote all this stuff, I actually did discover a few tricks beyond the standard \\'two empires at different economic levels trade and make money\\' strategy. Some day I\\'ll write those down.\"\\n<P>\\n\"SRE is still one of my favorite online games. Unfortunately, the author of the game (Amit Patel) lost the source code for SRE, and it never developed farther.  One other note: I recently learned that \"Va fan culo puttana\" (the empire name used by a SEE player who became a character in one of the stories) is actually an Italian curse phrase. Ah yes, the ignorance of youth is bliss.\"\\n<P>\\n<TABLE WIDTH=100%>\\n<TD BGCOLOR=#00FF00><FONT COLOR=#000000><B>Filename</B><BR></FONT></TD>\\n<TD BGCOLOR=#00DD00><FONT COLOR=#000000><B>Size</B><BR></FONT></TD>\\n<TD BGCOLOR=#00AA00><FONT COLOR=#000000><B>Description of the Textfile</B><BR></TD></TR>\\n\\n<tab indent=60 id=T><br>\\n<TR VALIGN=TOP><TD ALIGN=TOP><A HREF=\"sre01.txt\">sre01.txt</A>  <tab to=T><TD> 11278<BR><TD> SRE: The Saga Of The Best SRE Game Ever Played! By Josh Renaud\\n<TR VALIGN=TOP><TD ALIGN=TOP><A HREF=\"sre02.txt\">sre02.txt</A>  <tab to=T><TD> 5862<BR><TD> Solar Realms Elite: The True Story of the Unsung Heroes, by Josh Renaud\\n<TR VALIGN=TOP><TD ALIGN=TOP><A HREF=\"sre03.txt\">sre03.txt</A>  <tab to=T><TD> 8555<BR><TD> Solar Realms Elite: Ultra\\'s Untold Story by Josh Renaud\\n<TR VALIGN=TOP><TD ALIGN=TOP><A HREF=\"sre04.txt\">sre04.txt</A>  <tab to=T><TD> 44198<BR><TD> Solar Realms Elite IV: The Confrontation, by Josh Renaud\\n<TR VALIGN=TOP><TD ALIGN=TOP><A HREF=\"sre05.txt\">sre05.txt</A>  <tab to=T><TD> 20787<BR><TD> Solar Realms Elite V: The Underground, by Josh Renaud\\n<TR VALIGN=TOP><TD ALIGN=TOP><A HREF=\"sre06.txt\">sre06.txt</A>  <tab to=T><TD> 26731<BR><TD> Solar Realms Elite VI: The Alliance Restored, by Josh Renaud\\n<TR VALIGN=TOP><TD ALIGN=TOP><A HREF=\"sre07.txt\">sre07.txt</A>  <tab to=T><TD> 23597<BR><TD> Solar Realms Elite 7: Petros, by Josh Renaud\\n<TR VALIGN=TOP><TD ALIGN=TOP><A HREF=\"sre08.txt\">sre08.txt</A>  <tab to=T><TD> 33170<BR><TD> Solar Realms Elite VIII: Kazik, by Josh Renaud\\n<TR VALIGN=TOP><TD ALIGN=TOP><A HREF=\"sre09.txt\">sre09.txt</A>  <tab to=T><TD> 26073<BR><TD> Solar Realms Elite IX: Survival of the Fittest, by Josh Renaud\\n<TR VALIGN=TOP><TD ALIGN=TOP><A HREF=\"sre10.txt\">sre10.txt</A>  <tab to=T><TD> 25725<BR><TD> Solar Realms Elite X: Legacies, by Josh Renaud\\n<TR VALIGN=TOP><TD ALIGN=TOP><A HREF=\"sre_feqh.txt\">sre_feqh.txt</A>  <tab to=T><TD> 20054<BR><TD> Solar Realms Elite: The Feqh Galaxy, by Josh Renaud\\n<TR VALIGN=TOP><TD ALIGN=TOP><A HREF=\"sre_finl.txt\">sre_finl.txt</A>  <tab to=T><TD> 33158<BR><TD> Solar Realms Elite: The Finale by Josh Renaud\\n<TR VALIGN=TOP><TD ALIGN=TOP><A HREF=\"sre_sei.txt\">sre_sei.txt</A>  <tab to=T><TD> 20753<BR><TD> Solar Realms Elite: Galaxy Sei, by Josh Renaud\\n<TR VALIGN=TOP><TD ALIGN=TOP><A HREF=\"sretrade.txt\">sretrade.txt</A>  <tab to=T><TD> 9008<BR><TD> The SRE Commerce and Trade Theories, by Josh Renaud\\n<TR VALIGN=TOP><TD ALIGN=TOP><A HREF=\"srex.txt\">srex.txt</A>  <tab to=T><TD> 37128<BR><TD> Solar Realms Elite: X1 and X2, by Josh Renaud\\n</TABLE><P><TABLE WIDTH=100%><TR><TD ALIGN=RIGHT><SMALL>There are 15 files for a total of 346,077 bytes.</SMALL></TABLE>'"
      ]
     },
     "execution_count": 7,
     "metadata": {},
     "output_type": "execute_result"
    }
   ],
   "source": [
    "# file = \"I wanted the gold, and I sought it, I scrabbled and mucked like a slave.\"\n",
    "file = open(\"index.html\", 'r')\n",
    "text = file.read().strip()\n",
    "file.close()\n",
    "text"
   ]
  },
  {
   "cell_type": "code",
   "execution_count": 8,
   "metadata": {},
   "outputs": [
    {
     "data": {
      "text/plain": [
       "['sre01.txt',\n",
       " 'sre02.txt',\n",
       " 'sre03.txt',\n",
       " 'sre04.txt',\n",
       " 'sre05.txt',\n",
       " 'sre06.txt',\n",
       " 'sre07.txt',\n",
       " 'sre08.txt',\n",
       " 'sre09.txt',\n",
       " 'sre10.txt',\n",
       " 'sre_feqh.txt',\n",
       " 'sre_finl.txt',\n",
       " 'sre_sei.txt',\n",
       " 'sretrade.txt',\n",
       " 'srex.txt']"
      ]
     },
     "execution_count": 8,
     "metadata": {},
     "output_type": "execute_result"
    }
   ],
   "source": [
    "file_name = re.findall('><A HREF=\"(.*)\">', text)\n",
    "file_title = re.findall('<BR><TD> (.*)\\n', text)\n",
    "# file_name = file_name[2:]\n",
    "file_name\n",
    "\n",
    "# for j in range(len(file_name)):\n",
    "#         dataset.append((str(i) +\"/\"+ str(file_name[j]), file_title[j]))\n"
   ]
  },
  {
   "cell_type": "code",
   "execution_count": 9,
   "metadata": {},
   "outputs": [
    {
     "name": "stdout",
     "output_type": "stream",
     "text": [
      "15 15\n"
     ]
    }
   ],
   "source": [
    "file_title\n",
    "print(len(file_name), len(file_title))"
   ]
  },
  {
   "cell_type": "code",
   "execution_count": 10,
   "metadata": {
    "scrolled": true
   },
   "outputs": [
    {
     "data": {
      "text/plain": [
       "[('sre01.txt',\n",
       "  'SRE: The Saga Of The Best SRE Game Ever Played! By Josh Renaud'),\n",
       " ('sre02.txt',\n",
       "  'Solar Realms Elite: The True Story of the Unsung Heroes, by Josh Renaud'),\n",
       " ('sre03.txt', \"Solar Realms Elite: Ultra's Untold Story by Josh Renaud\"),\n",
       " ('sre04.txt', 'Solar Realms Elite IV: The Confrontation, by Josh Renaud'),\n",
       " ('sre05.txt', 'Solar Realms Elite V: The Underground, by Josh Renaud'),\n",
       " ('sre06.txt', 'Solar Realms Elite VI: The Alliance Restored, by Josh Renaud'),\n",
       " ('sre07.txt', 'Solar Realms Elite 7: Petros, by Josh Renaud'),\n",
       " ('sre08.txt', 'Solar Realms Elite VIII: Kazik, by Josh Renaud'),\n",
       " ('sre09.txt',\n",
       "  'Solar Realms Elite IX: Survival of the Fittest, by Josh Renaud'),\n",
       " ('sre10.txt', 'Solar Realms Elite X: Legacies, by Josh Renaud'),\n",
       " ('sre_feqh.txt', 'Solar Realms Elite: The Feqh Galaxy, by Josh Renaud'),\n",
       " ('sre_finl.txt', 'Solar Realms Elite: The Finale by Josh Renaud'),\n",
       " ('sre_sei.txt', 'Solar Realms Elite: Galaxy Sei, by Josh Renaud'),\n",
       " ('sretrade.txt', 'The SRE Commerce and Trade Theories, by Josh Renaud'),\n",
       " ('srex.txt', 'Solar Realms Elite: X1 and X2, by Josh Renaud')]"
      ]
     },
     "execution_count": 10,
     "metadata": {},
     "output_type": "execute_result"
    }
   ],
   "source": [
    "\n",
    "dataset = []\n",
    "for j in range(len(file_name)):\n",
    "        dataset.append((str(file_name[j]), file_title[j]))\n",
    "dataset"
   ]
  },
  {
   "cell_type": "code",
   "execution_count": 21,
   "metadata": {},
   "outputs": [],
   "source": [
    "len(dataset)\n",
    "N = len (dataset)"
   ]
  },
  {
   "cell_type": "code",
   "execution_count": 12,
   "metadata": {},
   "outputs": [],
   "source": [
    "def convert_lower_case(data):\n",
    "    return np.char.lower(data)\n"
   ]
  },
  {
   "cell_type": "code",
   "execution_count": 20,
   "metadata": {},
   "outputs": [],
   "source": [
    "def remove_stop_words(data):\n",
    "    stop_words = stopwords.words('english')\n",
    "    words = word_tokenize(str(data))\n",
    "    new_text = \"\"\n",
    "    for w in words:\n",
    "        if w not in stop_words and len(w) > 1:\n",
    "            new_text = new_text + \" \" + w\n",
    "    return new_text\n"
   ]
  },
  {
   "cell_type": "code",
   "execution_count": 19,
   "metadata": {},
   "outputs": [],
   "source": [
    "def remove_apostrophe(data):\n",
    "    return np.char.replace(data, \"'\", \"\")"
   ]
  },
  {
   "cell_type": "code",
   "execution_count": 18,
   "metadata": {},
   "outputs": [],
   "source": [
    "def stemming(data):\n",
    "    stemmer= PorterStemmer()\n",
    "    \n",
    "    tokens = word_tokenize(str(data))\n",
    "    new_text = \"\"\n",
    "    for w in tokens:\n",
    "        new_text = new_text + \" \" + stemmer.stem(w)\n",
    "    return new_text"
   ]
  },
  {
   "cell_type": "code",
   "execution_count": 17,
   "metadata": {},
   "outputs": [],
   "source": [
    "\n",
    "def convert_numbers(data):\n",
    "    tokens = word_tokenize(str(data))\n",
    "    new_text = \"\"\n",
    "    for w in tokens:\n",
    "        try:\n",
    "            w = num2words(int(w))\n",
    "        except:\n",
    "            a = 0\n",
    "        new_text = new_text + \" \" + w\n",
    "    new_text = np.char.replace(new_text, \"-\", \" \")\n",
    "    return new_text\n"
   ]
  },
  {
   "cell_type": "code",
   "execution_count": 16,
   "metadata": {},
   "outputs": [],
   "source": [
    "def remove_punctuation(data):\n",
    "    symbols = \"!\\\"#$%&()*+-./:;<=>?@[\\]^_`{|}~\\n\"\n",
    "    for i in range(len(symbols)):\n",
    "        data = np.char.replace(data, symbols[i], ' ')\n",
    "        data = np.char.replace(data, \"  \", \" \")\n",
    "    data = np.char.replace(data, ',', '')\n",
    "    return data\n"
   ]
  },
  {
   "cell_type": "code",
   "execution_count": 15,
   "metadata": {},
   "outputs": [],
   "source": [
    "def preprocess(data):\n",
    "    data = convert_lower_case(data)\n",
    "    data = remove_punctuation(data) #remove comma seperately\n",
    "    data = remove_apostrophe(data)\n",
    "    data = remove_stop_words(data)\n",
    "    data = convert_numbers(data)\n",
    "    data = stemming(data)\n",
    "    data = remove_punctuation(data)\n",
    "    data = convert_numbers(data)\n",
    "    data = stemming(data) #needed again as we need to stem the words\n",
    "    data = remove_punctuation(data) #needed again as num2word is giving few hypens and commas fourty-one\n",
    "    data = remove_stop_words(data) #needed again as num2word is giving stop words 101 - one hundred and one\n",
    "    return data"
   ]
  },
  {
   "cell_type": "code",
   "execution_count": 1,
   "metadata": {},
   "outputs": [
    {
     "name": "stdout",
     "output_type": "stream",
     "text": [
      "sgfew\n"
     ]
    }
   ],
   "source": []
  },
  {
   "cell_type": "code",
   "execution_count": null,
   "metadata": {},
   "outputs": [],
   "source": []
  },
  {
   "cell_type": "code",
   "execution_count": 46,
   "metadata": {},
   "outputs": [
    {
     "name": "stdout",
     "output_type": "stream",
     "text": [
      "[['sre', 'saga', 'best', 'sre', 'game', 'ever', 'play', 'josh', 'renaud']]\n",
      "[['sre', 'saga', 'best', 'sre', 'game', 'ever', 'play', 'josh', 'renaud'], ['solar', 'realm', 'elit', 'true', 'stori', 'unsung', 'hero', 'josh', 'renaud']]\n",
      "[['sre', 'saga', 'best', 'sre', 'game', 'ever', 'play', 'josh', 'renaud'], ['solar', 'realm', 'elit', 'true', 'stori', 'unsung', 'hero', 'josh', 'renaud'], ['solar', 'realm', 'elit', 'ultra', 'untold', 'stori', 'josh', 'renaud']]\n",
      "[['sre', 'saga', 'best', 'sre', 'game', 'ever', 'play', 'josh', 'renaud'], ['solar', 'realm', 'elit', 'true', 'stori', 'unsung', 'hero', 'josh', 'renaud'], ['solar', 'realm', 'elit', 'ultra', 'untold', 'stori', 'josh', 'renaud'], ['solar', 'realm', 'elit', 'iv', 'confront', 'josh', 'renaud']]\n",
      "[['sre', 'saga', 'best', 'sre', 'game', 'ever', 'play', 'josh', 'renaud'], ['solar', 'realm', 'elit', 'true', 'stori', 'unsung', 'hero', 'josh', 'renaud'], ['solar', 'realm', 'elit', 'ultra', 'untold', 'stori', 'josh', 'renaud'], ['solar', 'realm', 'elit', 'iv', 'confront', 'josh', 'renaud'], ['solar', 'realm', 'elit', 'underground', 'josh', 'renaud']]\n",
      "[['sre', 'saga', 'best', 'sre', 'game', 'ever', 'play', 'josh', 'renaud'], ['solar', 'realm', 'elit', 'true', 'stori', 'unsung', 'hero', 'josh', 'renaud'], ['solar', 'realm', 'elit', 'ultra', 'untold', 'stori', 'josh', 'renaud'], ['solar', 'realm', 'elit', 'iv', 'confront', 'josh', 'renaud'], ['solar', 'realm', 'elit', 'underground', 'josh', 'renaud'], ['solar', 'realm', 'elit', 'vi', 'allianc', 'restor', 'josh', 'renaud']]\n",
      "[['sre', 'saga', 'best', 'sre', 'game', 'ever', 'play', 'josh', 'renaud'], ['solar', 'realm', 'elit', 'true', 'stori', 'unsung', 'hero', 'josh', 'renaud'], ['solar', 'realm', 'elit', 'ultra', 'untold', 'stori', 'josh', 'renaud'], ['solar', 'realm', 'elit', 'iv', 'confront', 'josh', 'renaud'], ['solar', 'realm', 'elit', 'underground', 'josh', 'renaud'], ['solar', 'realm', 'elit', 'vi', 'allianc', 'restor', 'josh', 'renaud'], ['solar', 'realm', 'elit', 'petro', 'josh', 'renaud']]\n",
      "[['sre', 'saga', 'best', 'sre', 'game', 'ever', 'play', 'josh', 'renaud'], ['solar', 'realm', 'elit', 'true', 'stori', 'unsung', 'hero', 'josh', 'renaud'], ['solar', 'realm', 'elit', 'ultra', 'untold', 'stori', 'josh', 'renaud'], ['solar', 'realm', 'elit', 'iv', 'confront', 'josh', 'renaud'], ['solar', 'realm', 'elit', 'underground', 'josh', 'renaud'], ['solar', 'realm', 'elit', 'vi', 'allianc', 'restor', 'josh', 'renaud'], ['solar', 'realm', 'elit', 'petro', 'josh', 'renaud'], ['solar', 'realm', 'elit', 'viii', 'kazik', 'josh', 'renaud']]\n",
      "[['sre', 'saga', 'best', 'sre', 'game', 'ever', 'play', 'josh', 'renaud'], ['solar', 'realm', 'elit', 'true', 'stori', 'unsung', 'hero', 'josh', 'renaud'], ['solar', 'realm', 'elit', 'ultra', 'untold', 'stori', 'josh', 'renaud'], ['solar', 'realm', 'elit', 'iv', 'confront', 'josh', 'renaud'], ['solar', 'realm', 'elit', 'underground', 'josh', 'renaud'], ['solar', 'realm', 'elit', 'vi', 'allianc', 'restor', 'josh', 'renaud'], ['solar', 'realm', 'elit', 'petro', 'josh', 'renaud'], ['solar', 'realm', 'elit', 'viii', 'kazik', 'josh', 'renaud'], ['solar', 'realm', 'elit', 'ix', 'surviv', 'fittest', 'josh', 'renaud']]\n",
      "[['sre', 'saga', 'best', 'sre', 'game', 'ever', 'play', 'josh', 'renaud'], ['solar', 'realm', 'elit', 'true', 'stori', 'unsung', 'hero', 'josh', 'renaud'], ['solar', 'realm', 'elit', 'ultra', 'untold', 'stori', 'josh', 'renaud'], ['solar', 'realm', 'elit', 'iv', 'confront', 'josh', 'renaud'], ['solar', 'realm', 'elit', 'underground', 'josh', 'renaud'], ['solar', 'realm', 'elit', 'vi', 'allianc', 'restor', 'josh', 'renaud'], ['solar', 'realm', 'elit', 'petro', 'josh', 'renaud'], ['solar', 'realm', 'elit', 'viii', 'kazik', 'josh', 'renaud'], ['solar', 'realm', 'elit', 'ix', 'surviv', 'fittest', 'josh', 'renaud'], ['solar', 'realm', 'elit', 'legaci', 'josh', 'renaud']]\n",
      "[['sre', 'saga', 'best', 'sre', 'game', 'ever', 'play', 'josh', 'renaud'], ['solar', 'realm', 'elit', 'true', 'stori', 'unsung', 'hero', 'josh', 'renaud'], ['solar', 'realm', 'elit', 'ultra', 'untold', 'stori', 'josh', 'renaud'], ['solar', 'realm', 'elit', 'iv', 'confront', 'josh', 'renaud'], ['solar', 'realm', 'elit', 'underground', 'josh', 'renaud'], ['solar', 'realm', 'elit', 'vi', 'allianc', 'restor', 'josh', 'renaud'], ['solar', 'realm', 'elit', 'petro', 'josh', 'renaud'], ['solar', 'realm', 'elit', 'viii', 'kazik', 'josh', 'renaud'], ['solar', 'realm', 'elit', 'ix', 'surviv', 'fittest', 'josh', 'renaud'], ['solar', 'realm', 'elit', 'legaci', 'josh', 'renaud'], ['solar', 'realm', 'elit', 'feqh', 'galaxi', 'josh', 'renaud']]\n",
      "[['sre', 'saga', 'best', 'sre', 'game', 'ever', 'play', 'josh', 'renaud'], ['solar', 'realm', 'elit', 'true', 'stori', 'unsung', 'hero', 'josh', 'renaud'], ['solar', 'realm', 'elit', 'ultra', 'untold', 'stori', 'josh', 'renaud'], ['solar', 'realm', 'elit', 'iv', 'confront', 'josh', 'renaud'], ['solar', 'realm', 'elit', 'underground', 'josh', 'renaud'], ['solar', 'realm', 'elit', 'vi', 'allianc', 'restor', 'josh', 'renaud'], ['solar', 'realm', 'elit', 'petro', 'josh', 'renaud'], ['solar', 'realm', 'elit', 'viii', 'kazik', 'josh', 'renaud'], ['solar', 'realm', 'elit', 'ix', 'surviv', 'fittest', 'josh', 'renaud'], ['solar', 'realm', 'elit', 'legaci', 'josh', 'renaud'], ['solar', 'realm', 'elit', 'feqh', 'galaxi', 'josh', 'renaud'], ['solar', 'realm', 'elit', 'final', 'josh', 'renaud']]\n",
      "[['sre', 'saga', 'best', 'sre', 'game', 'ever', 'play', 'josh', 'renaud'], ['solar', 'realm', 'elit', 'true', 'stori', 'unsung', 'hero', 'josh', 'renaud'], ['solar', 'realm', 'elit', 'ultra', 'untold', 'stori', 'josh', 'renaud'], ['solar', 'realm', 'elit', 'iv', 'confront', 'josh', 'renaud'], ['solar', 'realm', 'elit', 'underground', 'josh', 'renaud'], ['solar', 'realm', 'elit', 'vi', 'allianc', 'restor', 'josh', 'renaud'], ['solar', 'realm', 'elit', 'petro', 'josh', 'renaud'], ['solar', 'realm', 'elit', 'viii', 'kazik', 'josh', 'renaud'], ['solar', 'realm', 'elit', 'ix', 'surviv', 'fittest', 'josh', 'renaud'], ['solar', 'realm', 'elit', 'legaci', 'josh', 'renaud'], ['solar', 'realm', 'elit', 'feqh', 'galaxi', 'josh', 'renaud'], ['solar', 'realm', 'elit', 'final', 'josh', 'renaud'], ['solar', 'realm', 'elit', 'galaxi', 'sei', 'josh', 'renaud']]\n",
      "[['sre', 'saga', 'best', 'sre', 'game', 'ever', 'play', 'josh', 'renaud'], ['solar', 'realm', 'elit', 'true', 'stori', 'unsung', 'hero', 'josh', 'renaud'], ['solar', 'realm', 'elit', 'ultra', 'untold', 'stori', 'josh', 'renaud'], ['solar', 'realm', 'elit', 'iv', 'confront', 'josh', 'renaud'], ['solar', 'realm', 'elit', 'underground', 'josh', 'renaud'], ['solar', 'realm', 'elit', 'vi', 'allianc', 'restor', 'josh', 'renaud'], ['solar', 'realm', 'elit', 'petro', 'josh', 'renaud'], ['solar', 'realm', 'elit', 'viii', 'kazik', 'josh', 'renaud'], ['solar', 'realm', 'elit', 'ix', 'surviv', 'fittest', 'josh', 'renaud'], ['solar', 'realm', 'elit', 'legaci', 'josh', 'renaud'], ['solar', 'realm', 'elit', 'feqh', 'galaxi', 'josh', 'renaud'], ['solar', 'realm', 'elit', 'final', 'josh', 'renaud'], ['solar', 'realm', 'elit', 'galaxi', 'sei', 'josh', 'renaud'], ['sre', 'commerc', 'trade', 'theori', 'josh', 'renaud']]\n",
      "[['sre', 'saga', 'best', 'sre', 'game', 'ever', 'play', 'josh', 'renaud'], ['solar', 'realm', 'elit', 'true', 'stori', 'unsung', 'hero', 'josh', 'renaud'], ['solar', 'realm', 'elit', 'ultra', 'untold', 'stori', 'josh', 'renaud'], ['solar', 'realm', 'elit', 'iv', 'confront', 'josh', 'renaud'], ['solar', 'realm', 'elit', 'underground', 'josh', 'renaud'], ['solar', 'realm', 'elit', 'vi', 'allianc', 'restor', 'josh', 'renaud'], ['solar', 'realm', 'elit', 'petro', 'josh', 'renaud'], ['solar', 'realm', 'elit', 'viii', 'kazik', 'josh', 'renaud'], ['solar', 'realm', 'elit', 'ix', 'surviv', 'fittest', 'josh', 'renaud'], ['solar', 'realm', 'elit', 'legaci', 'josh', 'renaud'], ['solar', 'realm', 'elit', 'feqh', 'galaxi', 'josh', 'renaud'], ['solar', 'realm', 'elit', 'final', 'josh', 'renaud'], ['solar', 'realm', 'elit', 'galaxi', 'sei', 'josh', 'renaud'], ['sre', 'commerc', 'trade', 'theori', 'josh', 'renaud'], ['solar', 'realm', 'elit', 'x1', 'x2', 'josh', 'renaud']]\n"
     ]
    }
   ],
   "source": [
    "processed_text = []\n",
    "processed_title = []\n",
    "\n",
    "for i in dataset[:N]:\n",
    "    file = open(i[0], 'r', encoding=\"utf8\", errors='ignore')\n",
    "    text = file.read().strip()\n",
    "    file.close()\n",
    "\n",
    "    processed_text.append(word_tokenize(str(preprocess(text))))\n",
    "    processed_title.append(word_tokenize(str(preprocess(i[1]))))\n",
    "    print(processed_title)"
   ]
  },
  {
   "cell_type": "code",
   "execution_count": 34,
   "metadata": {},
   "outputs": [],
   "source": [
    "DF = {}\n",
    "\n",
    "for i in range(N):\n",
    "    tokens = processed_text[i]\n",
    "    for w in tokens:\n",
    "        try:\n",
    "            DF[w].add(i)\n",
    "        except:\n",
    "            DF[w] = {i}\n",
    "\n",
    "    tokens = processed_title[i]\n",
    "    for w in tokens:\n",
    "        try:\n",
    "            DF[w].add(i)\n",
    "        except:\n",
    "            DF[w] = {i}\n",
    "for i in DF:\n",
    "    DF[i] = len(DF[i])"
   ]
  },
  {
   "cell_type": "code",
   "execution_count": 37,
   "metadata": {},
   "outputs": [
    {
     "data": {
      "text/plain": [
       "3962"
      ]
     },
     "execution_count": 37,
     "metadata": {},
     "output_type": "execute_result"
    }
   ],
   "source": [
    "total_vocab_size = len(DF)\n",
    "total_vocab_size"
   ]
  },
  {
   "cell_type": "code",
   "execution_count": 38,
   "metadata": {},
   "outputs": [
    {
     "name": "stdout",
     "output_type": "stream",
     "text": [
      "['sre', 'saga', 'best', 'game', 'ever', 'play', 'josh', 'renaud', 'bbse', 'call', 'solar', 'realm', 'elit', 'devolop', 'ibm', 'version', 'atari', 'see', 'realli', 'fun', 'get', 'geniu', 'good', 'evil', 'peopl', 'driven', 'succeed', 'becom', 'ultraempir', 'youll', 'happen', 'stori', 'want', 'let', 'know', 'inform', 'pick', 'true', 'may', 'exact', 'onto', 'long', 'ago', 'galaxi', 'born', 'moder', 'galactiv', 'coordintor', 'rule', 'race', 'popul', 'made', 'came', 'one', 'start', 'littl', 'theyt', 'becam', 'big', 'die', 'empir', 'name', 'ultra', 'experi', 'help', 'seed', 'easili', 'conquer', 'whole', 'ala', 'thing', 'chang', 'ruler', 'left', 'visit', 'didnt', 'return', 'week', 'maceland', 'intent', 'back', 'find', 'ruin', 'somehow', 'thought', 'must', 'resurrect', 'wage', 'war', 'daili', 'attack', 'witfh', 'lose', 'ground', 'slowli', 'admit', 'defeat', 'truce', 'mace', 'content', 'peac', 'idea', 'allianc', 'tri', 'coupl', 'join', 'sadden', 'never', 'got', 'grow', 'soon', 'ask', 'three', 'would', 'forev', 'histori', 'cour', 'conceit', 'merci', 'allow', 'noon', 'alli', 'tht', 'geneva', 'stop', 'new', 'plan', 'care', 'could', 'take', 'went', 'stronger', 'number', 'gain', 'larger', 'learn', 'tey', 'put', 'ina', 'spi', 'fake', 'bountyhunt', 'wouldprov', 'import', 'hero', 'time', 'establish', 'distinct', 'trio', 'triad', 'author', 'dune', 'trick', 'export', 'secret', 'given', 'work', 'beauti', 'show', 'ind', 'weaken', 'ego', 'wouldnt', 'coverg', 'tghey', 'kept', 'small', 'armi', 'unbeleiv', 'alarmingli', 'fast', 'victori', 'turn', 'bittersweet', 'member', 'decid', 'without', 'notifi', 'like', 'fli', 'demolish', 'took', 'planet', 'leav', 'none', 'strategist', 'lil', 'red', 'jed', 'merit', 'note', 'throughout', 'meanwhil', 'forget', 'brave', 'instur', 'downfal', 'look', 'biggest', 'also', 'suffer', 'outlash', 'alway', 'lost', 'mani', 'regain', 'second', 'era', 'began', 'think', 'pirat', 'listen', 'said', 'kill', 'major', 'threat', 'final', 'keep', 'preciou', 'consid', 'quit', 'longand', 'unfortun', 'halfway', 'hardli', 'verbal', 'higher', 'partial', 'becua', 'physic', 'knew', 'ont', 'brink', 'newfound', 'extra', 'build', 'aro', 'go', 'joint', 'valuabl', 'found', 'quickli', 'trounc', 'temporarili', 'destroy', 'well', 'forc', 'militari', 'two', 'financ', 'courag', 'bigger', 'el', 'besid', 'close', 'mad', 'hell', 'deni', 'charg', 'eh', 'involv', 'involov', 'prove', 'wrong', 'dare', 'al', 'fear', 'thier', 'struck', 'battl', 'prod', 'provok', 'confront', 'evid', 'flood', 'broncobust', 'provid', 'much', 'corner', 'last', 'desper', 'gambl', 'secretli', 'declar', 'reason', 'believ', 'even', 'though', 'far', 'favor', 'garner', 'pounc', 'within', 'day', 'gotten', 'alot', 'abdic', 'incid', 'cau', 'old', 'delet', 'cam', 'saw', 'expo', 'bounti', 'bronco', 'forth', 'verballt', 'threaten', 'dark', 'result', 'converg', 'strip', 'six', 'hundr', 'thirti', 'ws', 'closest', 'come', 'death', 'unlik', 'previou', 'leader', 'brush', 'abidc', 'hung', 'succumb', 'temptat', 'oddli', 'empiri', 'first', 'dominion', 'lest', 'indic', 'trend', 'almost', 'blab', 'conquest', 'noth', 'fortun', 'suppli', 'special', 'aid', 'dhi', 'way', 'reciev', 'ship', 'need', 'feet', 'although', 'mere', 'hothead', 'olympu', 'actual', 'perish', 'newcom', 'micro', 'maniac', 'god', 'incredirealm', 'sece', 'side', 'immedi', 'militri', 'action', 'entri', 'fight', 'third', 'known', 'conquesti', 'mightiest', 'vertabra', 'power', 'report', 'trade', 'deal', 'fuel', 'enough', 'money', 'larg', 'half', 'buy', 'enter', 'basic', 'vain', 'empri', 'cut', 'neutral', 'matter', 'hydroxinia', 'lukewarm', 'claim', 'belong', 'switch', 'anyon', 'strong', 'great', 'sad', 'part', 'founder', 'worker', 'deserv', 'hog', 'wealth', 'te', 'perfect', 'allianmc', 'drum', 'use', 'certain', 'emmber', 'make', 'freedom', 'fighter', 'held', 'togeth', 'pursit', 'plot', 'right', 'list', 'order', 'honor', 'high', 'honorari', 'award', 'gold', 'leaf', 'silver', 'bronz', 'categor', 'coveri', 'oper', 'infiltr', 'infilrt', 'covert', 'golden', 'ultraempi', 'assault', 'support', 'monetari', 'defen', 'dollar', 'hope', 'origin', 'player', 'fourteen', 'nineti', 'thousand', 'eighteen', 'thank', 'knight', 'armor', 'bb', 'us', 'awesom', 'unsung', 'sequel', 'minor', 'role', 'invlov', 'fewer', 'outcom', 'recogn', 'credit', 'ii', 'bad', 'arguabl', 'repr', 'top', 'head', 'fellow', 'yeah', 'mention', 'job', 'bring', 'quick', 'fall', 'futur', 'near', 'utter', 'destruct', 'recov', 'next', 'lloyd', 'place', 'anyth', 'post', 'key', 'ventur', 'away', 'raid', 'retali', 'possibl', 'disband', 'mount', 'co', 'pretti', 'squad', 'eventu', 'realiz', 'afraid', 'lot', 'siphon', 'quicker', 'end', 'offen', 'loss', 'mysteri', 'intot', 'particip', 'activ', 'forgot', 'move', 'fright', 'size', 'comprabl', 'jkoin', 'least', 'damag', 'psycholog', 'impact', 'brought', 'fell', 'suppo', 'amass', 'split', 'middl', 'open', 'stand', 'asid', 'howev', 'couldnt', 'sit', 'duck', 'opurtun', 'piec', 'info', 'favorit', 'target', 'direct', 'anger', 'setup', 'built', 'prepar', 'appear', 'late', 'inth', 'probabl', 'wealthi', 'say', 'speed', 'creat', 'suitabl', 'feel', 'unharm', 'wouldv', 'taken', 'posess', 'incredibit', 'similiar', 'except', 'wasnt', 'reset', 'escap', 'classifi', 'civilian', 'protect', 'done', 'effect', 'insid', 'unknown', 'simpli', 'knowledg', 'avail', 'commi', 'strictli', 'told', 'anyonet', 'hat', 'couldv', 'devest', 'follow', 'memoir', 'book', 'compil', 'quot', 'uncov', 'everi', 'blame', 'cocki', 'give', 'ha', 'read', 'begin', 'still', 'share', 'love', 'iii', 'anoth', 'year', 'predecessor', 'shot', 'mouth', 'veteran', 'beat', 'taught', 'lesson', 'glad', 'vow', 'ya', 'hd', 'failur', 'whop', 'hard', 'someon', 'task', 'seem', 'imposs', 'scratch', 'resourc', 'nice', 'friend', 'thunder', 'trilianc', 'explicit', 'purpo', 'unseat', 'enemi', 'guess', 'seven', 'int', 'type', 'histor', 'month', 'expertix', 'unfortu', 'vacat', 'harbor', 'reveng', 'clinch', 'heavili', 'steal', 'defend', 'friendship', 'surpri', 'form', 'serv', 'govern', 'fouder', 'save', 'troubl', 'id', 'gone', 'shake', 'earth', 'control', 'sinc', 'fact', 'person', 'idiot', 'cant', '2nd', 'rich', 'sick', 'attempt', 'logon', 'everyth', 'real', 'yesman', 'mostli', 'brother', 'easi', 'watch', 'coach', 'live', 'hou', 'differ', 'mind', 'often', 'warn', 'sure', 'traitor', 'manipul', 'convinc', 'ehe', 'network', 'mess', 'entir', 'gave', 'sent', 'ill', 'expect', 'stab', 'advic', 'depser', 'devi', 'win', 'hed', 'rest', 'voila', 'im', 'fail', 'diminish', 'discov', 'complet', 'overthrow', 'obviou', 'propaganda', 'heed', 'cri', 'spark', 'command', 'instead', 'mistak', 'gab', 'stupid', 'bronc', 'argu', 'onth', 'verg', 'penni', 'pincher', 'fulfil', 'bare', 'necesseti', 'receiv', 'funnel', 'repair', 'empier', 'standoff', 'either', 'positionof', 'grab', 'giant', 'broke', 'cash', 'flow', 'sever', 'shambl', 'longest', 'record', 'achiev', 'goal', 'leadership', 'servic', 'hadnt', 'damn', 'sorri', 'cuss', 'appropri', 'selfish', 'cost', 'enlarg', 'point', 'unbeat', 'happ', 'proud', 'asham', 'weed', 'untold', 'popular', 'wwiv', 'today', 'space', 'forem', 'st', 'slighti', 'improv', 'fascin', 'ive', 'written', 'seri', 'file', 'base', 'thebest', 'welp', 'request', 'endeavor', 'towrit', 'fiction', 'plea', 'areth', 'copyright', 'trademark', 'owner', 'premi', 'center', 'meon', 'iv', 'ultim', 'finallyov', 'emerg', 'victor', 'fought', 'wealthiest', 'exist', 'sandman', 'kind', 'gener', 'aftermath', 'subsid', 'smaller', 'galact', 'coordin', 'beaten', 'perhap', 'waken', 'darki', 'overseeth', 'creation', 'mayb', 'stay', 'case', 'news', 'shook', 'underground', 'shut', 'oblig', 'drop', 'commit', 'survivor', 'whould', 'formul', 'maceman', 'meant', 'oppurtun', 'fame', 'gather', 'organ', 'overtak', 'chapter', 'acit', 'kirk', 'total', 'dissolv', 'theyll', 'solut', 'send', 'offic', 'withdrew', 'joyou', 'moment', 'freeof', 'oath', 'pay', 'conspir', 'dissolut', 'aspir', 'dictatorship', 'danc', 'greed', 'severli', 'hinder', 'chanc', 'surviv', 'rear', 'ugli', 'dog', 'strategi', 'zakal', 'convert', 'khoteth', 'rank', 'cooridn', 'ofspac', 'trust', 'elitehad', 'bone', 'onslaught', 'suspici', 'hefti', 'semi', 'welcom', 'master', 'valid', 'whenev', 'rare', 'odd', 'truth', 'rumor', 'sign', 'odder', 'hadnev', 'met', 'dedic', 'strang', 'someth', 'set', 'boundari', 'experienc', 'duti', 'life', 'brutal', 'dictat', 'obey', 'ofcour', 'individu', 'aliv', 'steel', 'talon', 'rip', 'limb', 'smallest', 'themal', 'crush', 'remain', 'mortal', 'companion', 'loyal', 'sidekick', 'domin', 'valianc', 'hyperdomain', 'uniti', 'interest', 'finish', 'wraught', 'thestrength', 'empiresand', 'possess', 'outsid', 'pose', 'problem', 'insurmount', 'word', 'tomorrow', 'hi', 'strengthen', 'backlash', 'dish', 'break', 'empireattack', 'provoc', 'sentdun', 'letter', 'explain', 'interf', 'affect', 'trustowrthi', 'trustworthi', 'torn', 'lightli', 'fourth', 'servant', 'zaklian', 'unit', 'occur', 'intern', 'resolv', 'slow', 'theunderground', 'struggl', 'self', 'justic', 'happier', 'dead', 'yet', 'slightli', 'growth', 'incom', 'ratio', 'stabil', 'focu', 'zfu', 'along', 'unexpectedli', 'starta', 'scare', 'draw', 'closer', 'twice', 'sustain', 'reserv', 'famish', 'sway', 'scale', 'suspect', 'full', 'readi', 'poi', 'whoever', 'neither', 'stabl', 'longer', 'buckl', 'sweep', 'motion', 'equal', 'andbecom', 'balanc', 'crumbl', 'eighti', 'four', 'fifti', 'sixti', 'card', 'perfectli', 'assur', 'success', 'deepen', 'notch', 'wasgo', 'wire', 'permiss', 'comrad', 'boil', 'anonym', 'tip', 'town', 'whichwould', 'fal', 'seen', 'itr', 'contact', 'nuclear', 'weapon', 'punish', 'illeg', 'crystal', 'clear', 'disgruntl', 'telegram', 'amaz', 'act', 'directli', 'wasth', 'mean', 'oust', 'whip', 'butt', 'extrem', 'angri', 'disbelief', 'strength', 'outlawedweaponri', 'wor', 'afew', 'standpoint', 'armada', 'nine', 'takingdun', 'covertag', 'counter', 'code', 'ethic', 'law', 'moral', 'defil', 'worth', 'risk', 'posit', 'farther', 'system', 'cea', 'anymor', 'fill', 'imag', 'past', 'univ', 'corrupt', 'spread', 'ghetto', 'syndic', 'understudi', 'abl', 'syndicateand', 'abandon', 'fled', 'hand', 'felt', 'corupt', 'man', 'multiv', 'unlimit', 'andwa', 'occas', 'upon', 'norland', 'empiresnow', 'rd', 'enthral', 'shown', 'greedi', 'heck', 'fool', 'pull', 'pot', 'ovbiou', 'ment', 'might', 'biolog', 'bw', 'bomb', 'danger', 'wipe', 'million', 'cheap', 'expen', 'nearli', 'around', 'easier', 'sort', 'busi', 'gojng', 'elimin', 'tot', 'light', 'advantag', 'prolong', 'count', 'bother', 'everyon', 'scatch', 'viper', 'pit', 'wait', 'itd', 'victim', 'hitman', 'distrubut', 'cooridin', 'normal', 'babi', 'boy', 'reali', 'bioweapon', 'heard', 'shipment', 'chemic', 'chemweapon', 'lower', 'anyway', 'atidi', 'profit', 'intend', 'hold', 'hurt', 'concern', 'level', 'horrif', 'tal', 'replac', 'se', 'skill', 'ten', 'injur', 'twenti', 'eight', 'five', 'eleven', 'hisinsurg', 'coup', 'low', 'afford', 'dunerealm', 'distant', 'memori', 'tell', 'andattack', 'ultrad', 'wedg', 'situationerupt', 'refu', 'accept', 'realiti', 'stubborn', 'natur', 'wish', 'restor', 'unfold', 'anticip', 'reluct', 'safe', 'gap', 'ormayb', 'joy', 'luck', 'badi', 'shortli', 'pact', 'billion', 'option', 'team', 'step', 'wonder', 'nervou', 'quad', 'penta', 'perman', 'detroy', 'anattempt', 'plunder', 'whack', 'minut', 'relm', 'price', 'strongon', 'hunter', 'nirvana', 'fe', 'agent', 'assassin', 'bank', 'penniless', 'gear', 'strike', 'endless', 'ofbioweapon', 'immin', 'largest', 'foolish', 'asbig', 'knowswhi', 'seemingli', 'attck', 'twelv', 'overwhelm', 'fix', 'extermin', 'beyond', 'enrag', 'due', 'explo', 'plant', 'unmtil', 'settl', 'state', 'clean', 'ercord', 'remov', '3rd', 'statu', 'doubt', 'disea', 'epidem', 'relea', 'virii', 'weaponri', 'blew', 'macedhav', 'bwp', 'atleast', 'less', 'chemicalweapon', 'satisfi', 'sold', 'thirteen', 'reciec', 'instruct', 'rampant', 'reli', 'terribl', 'disgrac', 'chosen', 'theonli', 'horribl', 'interstellar', 'bloodbath', 'group', 'galacticcoordin', 'galaxygram', 'nuclearweapon', 'collap', 'hang', 'beback', 'zakalbut', 'arrang', 'agr', 'execut', 'excel', 'better', 'smartest', 'ofth', 'hynorevr', 'applic', 'allianceto', 'becuau', 'laugh', 'malic', 'vengeanc', 'hurdl', 'appli', 'rid', 'burden', 'happi', 'abolish', 'thisof', 'free', 'sale', 'figur', 'eager', 'noren', 'offici', 'resign', 'riddanc', 'hydrox', 'remind', 'hyevr', 'supposedli', 'forver', 'genesi', 'fifteen', 'overthrown', 'lawless', 'abound', 'nowt', 'necessari', 'sixteen', 'merger', 'overrun', 'mighti', 'merg', 'centuri', 'shock', 'superior', 'face', 'destori', 'effort', 'forgotten', 'usual', 'dandi', 'blow', 'hyperrealm', 'absorb', 'hyper', 'excu', 'choic', 'huh', 'ponder', 'dilemma', 'accord', 'sourc', 'shadow', 'seventeen', 'amu', 'tookan', 'hyperovbi', 'smart', 'continu', 'amysteri', 'enforc', 'oblit', 'avoid', 'rebel', 'veyr', 'strateg', 'clever', 'anxieti', 'hyever', 'fleet', 'designedto', 'perform', 'steadili', 'mix', 'dealt', 'home', 'nineteen', 'intruig', 'vastli', 'requir', 'tactic', 'subject', 'impo', 'havebeen', 'oh', 'enjoy', 'newad', 'ye', 'shaken', 'short', 'deci', 'galaxialempir', 'especi', 'mission', 'grudg', 'paid', 'chump', 'accomplish', 'nowsuperior', 'deepli', 'whod', 'demot', 'valianceand', 'promot', 'lone', 'gigant', 'hide', 'renam', 'ladder', 'brilliant', 'talhad', 'emperor', 'chemplant', 'hear', 'heavi', 'takeov', 'asylum', 'thrill', 'himto', 'core', 'soonh', 'rung', 'zfuwa', 'entranc', 'somebodi', 'retak', 'rush', 'unexpect', 'atop', 'smarter', 'norenhad', 'imagin', 'latest', 'biggi', 'suit', 'worri', 'increa', 'factor', '4with', 'addit', 'dissolveit', 'rather', 'hadbegun', 'vise', 'grip', 'common', 'fed', 'dustworld', 'finway', 'briton', 'gojuon', 'speak', 'world', 'ofdef', 'associ', 'band', 'stood', 'tyrann', 'hesneer', 'petti', 'white', 'howd', 'theyd', 'guard', 'fire', 'sharpli', 'gahter', 'mightili', 'knockhi', 'amri', 'messeng', 'captiv', 'shall', 'sworn', 'talturn', 'blood', 'proteg', 'grasp', 'heel', 'rang', 'recoil', 'tremend', 'bneither', 'bloodthrist', 'heart', 'wrench', 'ident', 'fatal', 'widen', 'add', 'frighten', 'nowher', 'virtual', 'unconvincingli', 'amartyr', 'galacit', 'compli', 'coordinatorsjudg', 'rein', 'justli', 'wasntto', 'swirl', 'cloud', 'dust', 'swept', 'age', 'prevail', 'againand', 'search', 'coordiantor', 'ruthless', 'pf', 'main', 'charact', 'jolt', 'andrenalin', 'hit', 'ڳڿ', '¿ڳڿ¿ڿ¿ڿ¿ڳ', 'splash', 'forti', 'user', 'miss', 'reinforc', 'lurk', 'thirsti', 'quiet', 'leak', 'alliancefriend', 'dear', 'arrest', 'fortuant', 'brew', 'ridden', 'loath', 'hate', 'aveng', 'rise', 'rulership', 'stagger', 'harden', 'butvali', 'guy', 'empirewa', 'promi', 'tear', 'apart', 'reject', 'thegalaxi', 'amoko', 'purg', 'sky', 'pace', 'importantli', 'populatrion', 'replaceth', 'cyber', 'weak', 'prosper', 'themsev', 'hawk', 'friendli', 'stronghold', 'ambit', 'pour', 'repercuss', 'wildcat', 'discoverdh', 'felin', 'citizen', 'leagu', 'formal', 'lofe', 'afterth', 'prosep', 'substitut', 'stole', 'empiresso', 'finallydestroy', 'lend', 'sum', '100mil', 'rebuild', 'abuzz', 'ceti', 'weakest', 'et', 'simpl', 'multi', 'product', 'sabrek', 'tau', 'sree', 'enfor', 'colonist', 'macabr', 'settler', 'citadel', 'wererevolt', 'sell', 'ofunifi', 'cautiou', 'spend', 'earn', 'deceti', 'teem', 'feed', 'food', 'alreadi', 'badli', 'recent', 'discourag', 'cave', 'ahh', 'turmoil', 'demand', 'deviou', 'hideou', 'undergroundto', 'captur', 'massiv', 'guardian', 'survey', 'hydryx', 'altern', 'coldnt', 'doom', 'plungeinto', 'depth', 'slaughter', 'whoremain', 'underpopul', 'situat', 'wisest', 'platinum', 'heyday', 'pass', 'waiv', 'imbur', 'valu', 'kingdom', 'grim', 'across', 'talk', 'student', 'sei', 'legend', 'stuff', 'belov', 'theveri', 'aboutto', 'function', 'upright', 'lead', 'rack', 'didth', 'recur', 'men', 'fantast', 'feat', 'overcom', 'submit', 'overcomingth', 'understand', 'overpopul', 'preserv', 'iron', 'welch', 'refug', 'cyberd', 'exposur', 'hyster', 'foothold', 'assum', 'shape', 'resist', 'kick', 'revel', 'employ', 'funni', 'deploy', 'correctli', 'filth', 'devic', 'pertain', 'trip', 'wer', 'fluke', 'thatd', 'mechan', 'test', 'duplicati', 'tourism', 'leisur', 'attract', 'among', 'crowd', 'attend', 'psionic', 'invent', 'conjunct', 'scientist', 'huddl', 'screen', 'equip', 'cruiser', '5mil', 'hutl', 'view', 'metropolitan', 'area', 'speaker', 'writh', 'clutch', 'scream', 'mass', 'hysteria', 'paranoia', 'demonstr', '1mil', 'psibomb', 'toward', 'unstopp', 'sir', 'scanner', 'detect', 'young', 'lieuten', 'detser', 'hc', 'anm', 'intercept', 'ordr', 'spoke', 'consist', 'faint', 'whatev', 'sauid', 'hurriedli', 'brain', 'pulsat', 'anguish', 'pain', 'bodi', 'seizur', 'overcam', 'arm', 'singl', 'undobtedli', 'murder', 'violenc', 'room', 'togeht', 'celebr', 'kharq', 'ti', 'door', 'burst', 'drag', 'roar', 'dispo', 'meet', 'manual', 'carri', 'match', 'maneuv', 'huge', '500k', 'joski', 'design', 'torpedo', 'repli', 'underl', 'depend', 'yell', 'ran', 'later', 'cart', 'tower', 'cross', 'connect', 'guidanc', 'babbl', 'touch', 'assit', 'pilot', 'wept', 'inevit', 'sleev', 'signal', 'surrend', 'ahead', 'lay', 'duel', 'divison', '4a', 'divi', 'singular', 'tabl', 'press', 'launch', 'gaze', 'wave', 'hurtl', 'towar', 'jsoki', 'consum', 'foul', 'swore', 'express', 'standstil', 'miracl', 'negoti', 'rebuilt', 'david', 'goliath', 'stone', 'stun', 'knock', 'conclud', 'vi', 'write', 'conclu', 'trilog', 'excit', 'featur', 'dialogu', 'tale', 'human', 'drama', 'portray', 'polit', 'religion', 'tune', 'style', 'logo', 'graphic', 'offend', 'bang', 'prologu', 'spirit', 'trillion', 'divid', 'seek', 'forg', 'conuct', 'erad', 'accid', 'misdirect', 'urban', 'abil', 'term', 'sli', 'pure', 'idioci', 'tire', 'upri', 'independ', 'quell', 'pressur', 'undeground', 'mutual', 'temporari', 'sake', 'page', 'vidcom', 'dub', 'feder', 'parti', 'fascist', 'tuf', 'tough', 'tgi', 'teeji', 'nea', 'lazi', 'fup', 'panel', 'vote', 'issu', 'dement', 'violent', 'shout', 'erupt', 'toughi', 'liber', 'bunch', 'activit', 'opposit', 'compromi', 'lo', 'arret', 'bridl', 'absurd', 'patient', 'geo', 'sector', 'hikru', 'ambassador', 'poksi', 'erect', 'facil', 'peeza', 'septant', 'dkn', 'appendang', 'gentlemen', 'stare', 'sooner', 'window', 'mask', 'document', 'comput', 'confer', 'council', 'effici', 'delight', 'torch', 'inva', 'homefront', 'clasp', 'bound', 'label', 'outbreak', 'disarm', 'precipit', 'screw', 'ridicul', 'behind', 'wast', 'miltari', 'vulner', 'withdraw', 'rechristen', 'partisan', 'lieu', 'terrorist', 'envoy', 'impor', 'convent', 'uncheck', 'legal', 'proceed', 'suicid', 'sicken', 'reincarn', 'engin', 'outwit', 'cun', 'ploy', 'bought', 'nioxyl', 'missl', 'niobomb', 'deadli', 'combin', 'nickel', 'acid', 'antiox', 'oxygen', 'antimatt', 'arsen', 'map', 'compound', 'trilithium', 'psioxid', 'dampen', 'irrit', 'tripsiox', 'shield', 'headach', 'develop', 'combat', 'discredit', 'process', 'unfit', 'deep', 'headquart', 'pool', 'formid', 'front', 'christen', 'planetari', 'pfg', 'hierarchi', 'respon', 'yesterday', 'format', 'statement', 'via', 'public', 'channel', 'lack', 'titl', 'includ', 'persona', 'impeach', 'homework', 'handl', 'everywh', 'mobil', 'elect', 'erron', 'seriou', 'straightforwardli', 'regim', 'bloodsh', 'poll', 'democrat', 'banish', 'faith', 'pro', 'navi', 'upper', 'mull', 'road', 'travel', 'enamel', 'fit', 'panick', 'counterattack', 'advi', 'revolt', 'inabl', 'crisi', 'water', 'lord', 'svoth', 'grin', 'flank', 'smile', 'penetr', 'inexperienc', 'nod', 'kordsva', 'mark', 'tko', 'excitd', 'wapq', 'backup', 'swivel', 'communiqu', 'station', 'smoke', 'answer', 'notic', 'faster', 'explod', 'plasma', 'spot', 'mustv', 'destini', 'econom', 'ideal', 'whether', 'reelect', 'utterli', 'remnant', 'privat', 'sargeant', 'brutzi', 'hideout', 'detach', 'sail', 'projectil', 'voss', 'scan', 'curt', 'peer', 'scienc', 'element', 'reveal', 'psiox', 'psiodid', 'amount', 'compund', 'determin', 'recon', 'deton', 'defin', 'energi', 'incr', 'estim', 'vo', 'noxiou', 'odor', 'gass', 'cough', 'skin', 'presenc', 'advisor', 'gakaxi', 'trace', 'deposit', 'util', 'niacid', 'locat', 'storm', 'div', 'tork', 'plaz', 'westerli', 'wing', 'staticki', 'gotcha', 'hq', 'com', 'sublight', 'accel', 'subspac', 'jump', 'carrier', 'field', 'flew', 'familiar', 'rememb', 'chat', 'contain', 'pac', 'nnoj', 'audcom', 'hair', 'distanc', 'wick', 'dip', 'hercul', 'loop', 'meter', 'degr', 'angl', 'climb', 'tormentor', 'neutron', 'cannon', 'vehement', 'attent', 'variou', 'potshot', 'quarter', 'vanquish', 'skirmish', 'admir', 'divert', 'kamikaz', 'pray', 'korg', 'prioriti', 'loom', 'grey', 'radar', 'push', 'hyperlight', 'behemoth', 'ensu', 'cockpit', 'flame', 'careen', 'unshield', 'portion', 'site', 'ignit', 'induc', 'blare', 'fireb', 'hot', 'sear', 'lightyear', 'lap', 'southern', 'smash', 'absolut', 'applau', 'dismantl', 'assimil', 'manufactur', 'blown', 'freed', 'territori', 'reestablish', 'rose', 'countless', 'tyrant', 'empress', 'epilogu', 'werent', 'bloodi', 'throughli', 'measur', 'insur', 'vision', 'sre6', 'socialist', 'countri', 'judeo', 'christian', 'root', 'dont', 'fehq', 'chronicl', 'adventur', 'cruel', 'migrat', 'contrari', 'petro', 'present', 'pack', 'plain', 'octob', 'subzero', 'hm', 'buck', 'michael', 'robinson', 'amit', 'patel', 'dick', 'pederson', 'bold', 'contiu', 'introduct', 'sre7', 'impress', 'fan', 'mail', 'download', 'crazi', 'reader', 'kazik', 'millenia', 'squash', 'monitor', 'grew', 'respect', 'speci', 'alien', 'oppress', 'overtook', 'harder', 'bore', 'bur', 'krael', 'whirl', 'chief', 'habit', 'breath', 'drew', 'director', 'extrauniv', 'explor', 'program', 'desgin', 'excitedli', 'pictur', 'weve', 'exclaim', 'faxcom', 'vidterm', 'surprisingli', 'stuck', 'starvat', 'hail', 'investig', 'vanish', 'sigh', 'hopni', 'detail', 'throttl', 'approach', 'disper', 'seper', 'poverti', 'goodwil', 'xenoscientist', 'tast', 'plazfield', 'petyr', 'satellit', 'havent', 'voic', 'jolma', 'consult', 'interrupt', 'vidscreen', 'lit', 'myriad', 'color', 'deflector', 'grid', 'wide', 'alert', 'slam', 'cell', 'ioniz', 'assimili', 'guke', 'doesnt', 'analyz', 'wont', 'caught', 'pant', 'craft', 'exit', 'reach', 'destin', 'visibl', 'permit', 'ignor', 'repeat', 'commun', 'patrol', 'approxim', 'unusu', 'vessel', 'depress', 'invi', 'track', 'woman', 'nara', 'theyr', 'messag', 'disapear', 'malfunct', 'plazspher', 'violet', 'sphere', 'reson', 'expand', 'ash', 'chuckl', 'stealth', 'delib', 'toy', 'postur', 'vedet', 'disabl', 'particl', 'path', 'thu', 'substanc', 'suscept', 'beam', 'hardl', 'properli', 'transfer', 'concentr', 'cyberian', 'platform', 'emitt', 'possibilit', 'tecouk', 'review', 'audlog', 'eighth', 'respond', 'assist', 'clue', 'spacecraft', 'dissid', 'sketchi', 'heat', 'soliton', 'oridinari', 'capabl', 'explan', 'inquir', 'encount', 'theorist', 'event', 'basi', 'dissappoint', 'frustrat', 'inspector', 'thoj', 'whatv', 'tilt', 'residu', 'ion', 'examin', 'depolar', 'crystallin', 'pergium', 'molecul', 'decryst', 'repolar', 'pau', 'youv', 'liberti', 'construct', 'ad', 'impervi', 'examint', 'tie', 'refer', 'resembl', 'vafan', 'puttana', 'correl', 'assumpt', 'faction', 'overlook', 'chair', 'nota', 'premier', 'hexagon', 'blakta', 'class', 'equiv', 'capitol', 'wrap', 'tkae', 'thatthey', 'thrustjump', 'doorway', 'graviton', 'rytek', 'grosen', 'dishevel', 'unless', 'blank', 'technolog', 'undoubtedli', 'fierc', 'arriv', 'holog', 'puni', 'consol', 'comm', 'protocol', 'greet', 'affili', 'confu', 'glanc', 'intrud', 'gestur', 'cavalri', 'polarcryst', 'hue', 'scene', 'circumst', 'ward', 'discret', 'solit', 'warm', 'turbin', 'churn', 'superh', 'temperatur', 'sprang', 'cultur', 'surround', 'instrument', 'commiss', 'expend', 'invisibl', 'initi', 'worst', 'casual', 'prototyp', 'isnt', 'discont', 'seiz', 'hydroxyl', 'missil', 'method', 'insist', 'takingov', 'froze', 'challeng', 'glare', 'plu', 'plethora', 'coldli', 'pleasur', 'jumbl', 'question', 'assembl', 'invad', 'array', 'modifi', 'quietli', 'chamber', 'vidseri', 'sound', 'silent', 'rumbl', 'wall', 'ruptur', 'floor', 'billow', 'choke', 'jol', 'intact', 'coud', 'flag', 'qualifi', 'limit', 'fund', 'portabl', 'instal', 'alright', 'sre8', 'appreci', 'encourag', 'check', 'onlin', 'magazin', 'grossworld', 'publish', 'compani', 'spellbind', 'text', 'suspen', 'proven', 'theori', 'difficult', 'fo', 'adversari', 'buzz', 'offer', 'successor', 'frame', 'item', 'donat', 'alon', 'anywh', 'reorgan', 'refurbish', 'manag', 'scroung', 'compen', 'account', 'percent', 'seclud', 'prefer', 'brief', 'stint', 'board', 'exactli', 'unsur', 'awar', 'structur', 'institut', 'evenut', 'sovereign', 'insight', 'lab', 'meticul', 'correct', 'phase', 'gluon', 'deattach', 'subatom', 'ecstat', 'herald', 'unpredict', 'led', 'vast', 'unconvent', 'strangest', 'uea', 'reappear', 'propser', 'theyv', 'imminenec', 'shift', 'lean', 'leatherback', 'regala', 'outskirt', 'border', 'star', 'dwool', 'celmn', 'complianc', 'commodor', 'noliana', 'black', 'discuss', 'powernod', 'weakl', 'loka', 'unsuspect', 'engag', 'dynafuel', 'storag', 'luxuri', 'contempl', 'tap', 'bed', 'central', 'queri', 'frontier', 'incapacit', 'sat', 'seat', 'outpost', 'talvit', 'deduc', 'nitrat', 'speck', 'lithium', 'sheet', 'conver', 'invert', 'redistribut', 'requri', 'convet', 'distributor', 'itll', 'punch', 'hole', 'straight', 'logic', 'standard', 'steco', 'relief', 'planetpod', 'land', 'pod', 'awe', 'blue', 'walk', 'luckili', 'crew', 'deciph', 'languag', 'translat', 'hello', 'volum', 'cold', 'kol', 'xenobiologist', 'arent', 'knife', 'lung', 'gosh', 'strand', 'processor', 'chip', 'robot', 'illu', 'await', 'lasru', 'blast', 'deeper', 'frontal', 'random', 'ram', 'rerout', 'mildli', 'rotat', 'recharg', 'outlast', 'primari', 'heroic', 'dock', 'ultrafast', 'plung', 'dearli', 'engross', 'technic', 'span', 'intellig', 'hologram', 'sampl', 'flinch', 'hesit', 'uh', 'eye', 'disgust', 'slap', 'object', 'flashlight', 'fusion', 'reactor', 'emit', 'inten', 'radiat', 'evacu', 'bombard', 'catch', 'burn', 'evenli', 'recal', 'fastest', 'onboard', 'treat', 'mental', 'mesur', 'makeshift', 'copilot', 'roli', 'run', 'hall', 'hospit', 'nur', 'flash', 'clearanc', 'badg', 'store', 'cabinet', 'laser', 'scalpel', 'impass', 'overconfid', 'flourish', 'scattergun', 'rescu', 'latch', 'psilithium', 'rai', 'attach', 'rubber', 'tube', 'crude', 'dispen', 'highli', 'flammabl', 'anti', 'ox', 'anthracit', 'confisc', 'closet', 'rake', 'scorch', 'seal', 'melt', 'reaction', 'inch', 'convul', 'pul', 'throb', 'unprepar', 'justifi', 'minu', 'creatur', 'annoy', 'undetect', 'depart', 'praetori', 'palac', 'koor', 'aljom', 'schemat', 'secur', 'modif', 'spare', 'hour', 'sweet', 'eveyth', 'volley', 'plasmafir', 'constant', 'batter', 'busili', 'okay', 'tricki', 'retrofield', 'princ', 'kolmi', 'pound', 'desk', 'disappoint', 'project', 'aim', 'blind', 'drain', 'journey', 'deactiv', 'praetor', 'green', 'button', 'junior', 'unconqu', 'battler', 'unswerv', 'fair', 'reconstruct', 'feqh', 'deathsong', 'neglect', 'pinnacl', 'stomach', 'woven', 'rope', 'knot', 'fleetwid', 'rout', 'carnag', 'slice', 'round', 'protu', 'harddock', 'reboard', 'nobodi', 'casualti', 'barrag', 'seventi', 'terrifi', 'undefeat', 'underestim', 'suprem', 'reckon', 'knee', 'congratul', 'disarray', 'date', 'fittest', 'bribe', 'distribu', 'viii', 'non', 'rival', 'unrel', 'unbeliev', 'decim', 'ravag', 'cornerston', 'unbeknownst', 'resid', 'xenophob', 'intrid', 'mecur', 'discoveri', 'vital', 'interrog', 'appeal', 'surplu', 'outnumb', 'tradit', 'gon', 'na', 'approv', 'teller', 'retort', 'harshli', 'meda', 'subforc', 'dispatch', 'prosix', 'demi', 'tenth', 'brand', 'vehicl', 'suspend', 'identifi', 'otherwi', 'assort', 'instant', 'bear', 'drone', 'alarm', 'mutter', 'proxim', 'dart', 'collid', 'disapprov', 'exten', 'ruse', 'specul', 'soothingli', 'tempt', 'stickler', 'loyalti', 'betray', 'smooth', 'evilli', 'unleash', 'gruesom', 'savor', 'amina', 'crackl', 'ratob', 'vicin', 'adjust', 'frequenc', 'colonel', 'ceil', 'bewar', 'midst', 'rain', 'crumpl', 'pursu', 'agress', 'presum', 'politician', 'strongest', 'hundresd', 'tini', 'weaker', 'abut', 'safeti', 'seeth', 'cryptic', 'inclin', 'infight', 'diver', 'lust', 'civil', 'soka', 'pocket', 'slot', 'toggl', 'flip', 'insert', 'keycard', 'whir', 'noi', 'voiceaux', 'aloud', 'flick', 'nomin', 'crucial', 'tediou', 'neck', 'cylind', 'float', 'blink', 'hover', 'nearbi', 'anamoli', 'distort', 'paranorm', 'shudder', 'pursur', 'commenc', 'zone', 'taunt', 'suggest', 'regroup', 'display', 'informaton', 'withdrawn', 'begun', 'goe', 'muse', 'father', 'sen', 'dishonor', 'futher', 'dismiss', 'notion', 'repulsor', 'son', 'kneel', 'pitch', 'forward', 'insan', 'exchang', 'appar', 'bouran', 'toss', 'lept', 'suddenli', 'expenditur', 'afterward', 'buri', 'flee', 'ceremoni', 'jehai', 'alru', 'crimin', 'treacheri', 'career', 'decoy', 'ah', 'nebula', 'accur', 'bait', 'fulli', 'coot', 'relay', 'lanc', 'pathet', 'pulver', 'fnish', 'impenetr', 'debri', 'plasmatrail', 'plazfir', 'similar', 'tow', 'inflict', 'behavior', 'barbar', 'extend', 'piti', 'debat', 'certainli', 'warmli', 'conqueror', 'distribut', 'domain', 'freeli', 'alter', 'violat', 'prosecut', 'ix', 'legaci', 'epic', 'fifteenth', 'brighten', 'clash', 'roll', 'ditch', 'spent', 'peril', 'affirm', 'drown', 'silenc', 'reminisc', 'legendari', 'shouldnt', 'fugit', 'hunt', 'zap', 'idol', 'child', 'drove', 'psychia', 'stimul', 'dose', 'aytori', 'netur', 'exochloranid', 'hire', 'warmth', 'caress', 'shroud', 'solv', 'disori', 'faceless', 'transmiss', 'bit', 'transport', 'proposit', 'fresh', 'coolli', 'regard', 'lucki', 'exonitrid', 'variant', 'comfort', 'longtim', 'nope', 'dwindl', 'teja', 'edg', 'weird', 'passag', 'reclu', 'procur', 'vastat', 'nightmar', 'etano', 'analysi', 'overreact', 'loud', 'abruptli', 'sudden', 'steam', 'resum', 'bath', 'wash', 'zelu', 'blaster', 'anybodi', 'newest', 'confin', 'captain', 'oblivion', 'remateri', 'touchpad', 'detent', 'lesser', 'grand', 'scheme', 'leer', 'mumbl', 'lift', 'trigger', 'dove', 'outpour', 'scurri', 'corridor', 'thoroughli', 'detain', 'switchboard', 'weakli', 'visitor', 'bark', 'wider', 'traffic', 'helm', 'trader', 'emissari', 'guest', 'pylon', 'privaci', 'vidport', 'solid', 'metal', 'hurl', 'antithesi', 'crafti', 'limp', 'wound', 'clearli', 'hostag', 'bright', 'captor', 'thrown', 'ambush', 'medic', 'somewh', 'scour', 'bet', 'jerk', 'cascad', 'vortex', 'infuri', 'partner', 'grope', '7b', 'moan', 'unison', 'lock', 'unauthor', 'foot', 'guarant', 'hey', 'protest', 'oval', 'crimson', 'spew', 'disconnect', 'unravel', 'continuum', 'exontrid', 'foe', 'etern', 'sneer', 'squar', 'gunfir', 'unabl', 'pad', 'navig', 'pop', 'clank', 'clamp', 'lurch', 'ramp', 'flung', 'softli', 'harm', 'cheer', 'immen', 'poke', 'rift', 'relf', 'miga', 'stoop', 'mothership', 'bolt', 'pierc', 'hull', 'chunk', 'duridium', 'implod', 'vacuum', 'asteroid', 'basal', 'foundat', 'pillar', 'toppl', 'transmit', 'packag', 'zoom', 'termin', 'renegad', 'overexposur', 'eleg', 'fashion', 'weep', 'rock', 'dearest', 'goodbi', 'adverti', 'repeatedli', 'feqhican', 'jirca', 'phee', 'reign', 'pervert', 'sickest', 'whichev', 'reward', 'throneba', 'throne', 'dread', 'marri', 'segment', 'typic', 'soldier', 'societi', 'entertain', 'buctia', 'repress', 'siberian', 'intrigu', 'creativ', 'winner', 'humbl', 'iseylon', 'ureya', 'frezar', 'rufreji', 'per', 'qualif', 'laka', 'dina', 'minist', 'honawa', 'underchief', 'staff', 'opert', 'clandenstin', 'toll', 'superb', 'ancient', 'wasalia', 'refreji', 'advanc', 'line', 'sabotag', 'earli', 'train', 'camp', 'unprotect', 'vibrat', 'viewport', 'broken', 'port', 'air', 'empti', 'describ', 'oversight', 'triumph', 'consort', 'randomli', 'thrust', 'hmm', 'halt', 'refregi', 'underinspector', 'terror', 'opinion', 'orinaka', 'specif', 'assign', 'foren', 'mile', 'underneath', 'rybosi', 'particularli', 'nostril', 'pungent', 'smell', 'nioxyia', 'theoret', 'ordinari', 'ga', 'swam', 'tuh', 'coo', 'admiralti', 'courier', 'grosn', 'subcommodor', 'blemish', 'reflect', 'dissatisfact', 'compass', 'curtli', 'address', 'progress', 'ms', 'plagu', 'espionag', 'personnel', 'sidearm', 'snap', 'dissip', 'ohhh', 'nalsi', 'techniqu', 'gun', 'keel', 'shockwac', 'supra', 'eat', 'meal', 'unidentifi', 'moor', 'layout', 'wingmen', 'thruster', 'potenti', 'bov', 'sideway', 'frantic', 'steer', 'navterm', 'oppon', 'photon', 'pursuit', 'fanci', 'shed', 'crippl', 'circl', 'ther', 'fifth', 'subdu', 'prison', 'useless', 'understood', 'phalanx', 'rage', 'aggress', 'furiou', 'royalship', 'pentrat', 'ahhh', 'gloriou', 'blocki', 'sight', 'disengag', 'comment', 'background', 'expan', 'slab', 'unexplor', 'holograph', 'android', 'colon', 'shoralm', 'coloni', 'refresh', 'disdain', 'societ', 'musician', 'solemn', 'casket', 'insignia', 'gateway', 'slid', 'entryway', 'jettison', 'nobl', 'proclam', 'leadersof', 'guid', 'period', 'announc', 'amokrael', 'lighten', 'somber', 'mood', 'appoint', 'usher', 'famou', 'bol', 'fren', 'omank', 'da', 'funer', 'spring', 'charter', 'renew', 'fate', 'uncertain', 'frown', 'fluctuat', 'readout', 'compri', 'infinit', 'uniqu', 'characterisit', 'properti', 'implo', 'opt', 'ruciu', 'displea', 'behalf', 'bestow', 'pin', 'prece', 'ata', 'relat', 'scenario', 'licen', 'unreason', 'ul', 'areit', 'prospector', 'juri', 'rig', 'inescap', 'horizon', 'yard', 'purcha', 'beep', 'veer', 'unorthodox', 'exud', 'data', 'youd', 'pyramid', 'node', 'tridimens', 'anali', 'gingerli', 'crop', 'alpha', 'sorax', 'energet', 'undergo', 'drought', 'subaverag', 'suffici', 'parliamentari', 'conven', 'prime', 'restructur', 'chain', 'boom', 'coliseum', 'slight', 'bow', 'audienc', 'proclaim', 'former', 'phenomena', 'fade', 'invit', 'finger', 'obsedion', 'permeat', 'vy', 'wand', 'chao', 'disappear', 'supplement', 'crack', 'withstand', 'unawar', 'strode', 'slim', 'handheld', 'twist', 'simultan', 'instantli', 'shimmer', 'materi', 'fireblad', 'manner', 'circular', 'leg', 'squadron', 'jurisdict', 'polici', 'scatterbeam', 'jumpfield', 'pja', 'haul', 'enabl', 'perimet', 'voclar', 'oldest', 'observ', 'tranquil', 'starvessel', 'plow', 'sped', 'trail', 'wake', 'naval', 'rude', 'sprout', 'rufregi', 'cover', 'departur', 'squabbl', 'disput', 'uproar', 'apprent', 'quak', 'imperi', 'hidden', 'quandri', 'minc', 'salvo', 'bottom', 'predict', 'doomsday', 'carv', 'magnif', 'edif', 'spacedock', 'fortifi', 'shear', 'newli', 'recaptur', 'ladi', 'jove', 'slimi', 'blither', 'clap', 'magic', 'electrocut', 'uniform', 'promptli', 'palm', 'knob', 'sonic', 'void', 'rea', 'seig', 'retrothrust', 'axe', 'stress', 'nimav', 'holi', 'cooper', 'ownership', 'shower', 'column', 'antigrav', 'bulkhead', 'movement', 'crash', 'shaki', 'glimp', 'omicron', 'grind', 'accordion', 'breach', 'blowout', 'dig', 'momentum', 'wild', 'wear', 'impish', 'deliv', 'joke', 'calm', 'ring', 'effervesc', 'immatur', 'spout', 'nerv', 'hop', 'orbit', 'fractur', 'scatter', 'instinct', 'wag', 'utopian', 'envi', 'naught', 'convoy', 'illumin', 'multipl', 'filament', 'unscath', 'olkra', 'flitter', 'grace', 'heaven', 'dismay', 'orchestr', 'episod', 'fallen', 'wherev', 'wizard', 'firmli', 'vari', 'sadli', 'digniti', 'rebellion', 'omin', 'briskli', 'sinist', 'mesh', 'canist', 'intermix', 'hypercharg', 'machin', 'jar', 'fabric', 'electr', 'current', 'stew', 'barrier', 'nativ', 'shred', 'local', 'dimen', 'disintegr', 'herculean', 'forewarn', 'impend', 'chose', 'exempt', 'aftereffect', 'slowl', 'significantli', 'union', 'rape', 'ahd', 'guerilla', 'crawl', 'trooper', 'happili', 'contempt', 'hatr', 'grimli', 'agenc', 'swashay', 'visionari', 'apolog', 'degen', 'mutliv', 'isol', 'doubtless', 'distress', 'crewmemb', 'op', 'allspac', 'mikal', 'rbinsn', 'justin', 'paul', 'quisenberri', 'marc', 'brook', 'ralph', 'mage', 'ancestor', 'belt', 'women', 'renoi', 'risen', 'youngest', 'hardship', 'ore', 'mine', 'disast', 'chrono', 'nowaday', 'teach', 'fine', 'orign', 'suck', 'pride', 'zexl', 'quest', 'elig', 'stellar', 'stock', 'swift', 'deft', 'imprison', 'estat', 'quarterdeck', 'breed', 'campaign', 'margin', 'desir', 'unquench', 'aplenti', 'curb', 'delv', 'invinc', 'exceed', 'threshold', 'upset', 'ordeal', 'prevent', 'economi', 'zero', 'dream', 'net', 'loan', 'declin', 'invest', 'tighten', 'budget', 'compar', 'steadi', 'underdefend', 'undefeatbl', 'unstabl', 'bumbl', 'madman', 'humili', 'unsuccess', 'steep', 'nose', 'session', 'rekindl', 'astound', 'viciou', 'reduc', 'pledg', 'treasur', 'futil', 'persist', 'oblier', 'darn', 'surren', 'champion', 'de', 'armament', 'piecem', 'sozj', 'drawn', 'dreari', 'maker', 'kolden', 'quantiti', 'ail', 'membership', 'sore', 'mentor', 'flat', 'zeal', 'unifi', 'harmoni', 'shame', 'gift', 'poor', 'collect', 'cancel', 'goner', 'wise', 'deplet', 'tghe', 'fault', 'bunni', 'va', 'culo', 'softwar', 'expla', 'cool', 'commerc', 'deriv', 'procedur', 'strict', 'schedul', 'preci', 'commonplac', 'ludicr', 'matrix', 'propo', 'constantli', 'substanti', 'accompani', 'cn', 'regardless', 'orient', 'bylaw', 'atmosph', 'politi', 'complic', 'liquid', '10bil', '2bil', '14bil', 'riski', 'surpass', 'etc', 'succ', 'skim', 'valueless', 'capit', 'medium', 'unbalanc', 'wich', 'exampl', '10mil', 'offset', 'attribut', 'defesn', 'evolut', 'barter', 'antyth', 'outlin', 'terrif', 'groundwork', 'writer', 'loui', 'beginn', 'x1', 'x2', 'roman', 'numer', 'embark', 'sponsor', 'discontinu', 'formula', 'shriek', 'ate', 'hemorrag', 'sweat', 'fog', 'aw', 'shrug', 'research', 'intersect', 'remor', 'guilt', 'yan', 'mother', 'relon', 'famili', 'sacrif', 'stolen', 'outfit', 'helpless', 'reveri', 'nelid', 'majest', 'piraci', 'sternli', 'confid', 'tenfold', 'tura', 'nameless', 'suffic', 'herol', 'apprehend', 'crime', 'straw', 'inquiri', 'night', 'access', 'thin', 'complex', 'sought', 'supri', 'urg', 'syneth', 'dissappear', 'spnding', 'ver', 'criminolog', 'cheek', 'tall', 'block', 'rapidli', 'tonight', 'cast', 'buffer', 'compat', 'cataclysm', 'video', 'footag', 'synth', 'configur', 'updat', 'enclo', 'shoot', 'greatest', 'creap', 'fist', 'march', 'panic', 'patch', 'overlay', 'theft', 'replic', 'pale', 'comparison', 'veng', 'loo', 'topic', 'neurolog', 'disord', 'oral', 'psyodid', 'inhal', 'offlin', 'reclin', 'rendezv', 'growl', 'eta', 'royalti', 'comlink', 'cordial', 'cavox', 'vocal', 'alik', 'avayo', 'commend', 'arisen', 'derang', 'herebi', 'tarheil', 'compet', 'expert', 'experti', 'ursurp', 'commonwealth', 'grandson', 'stride', 'commot', 'proof', 'assumn', 'passeng', 'cubicl', 'acquaint', 'instabl', 'section', 'weight', 'contest', 'disembark', 'crisscross', 'risya', 'persua', 'cpf', 'branch', 'persuad', 'perii', 'mistress', 'contort', 'strain', 'bond', 'slash', 'observatori', 'whisper', 'defac', 'sleek', 'detector', 'telescop', 'anim', 'asleep', 'aboard', 'mill', 'optim', 'model', 'fanat', 'orang', 'swoop', 'stamp', 'deck', 'ardonit', 'fend', 'surg', 'conduit', 'link', 'firework', 'fare', 'ringlead', 'supers', 'fume', 'conceal', 'whoop', 'swallow', 'envelop', 'belli', 'pawn', 'greater', 'splinter', 'weav', 'intim', 'tapestri', 'trap', 'momentarili', 'chill', 'cargo', 'retook']\n"
     ]
    }
   ],
   "source": [
    "total_vocab = [x for x in DF]\n",
    "print(total_vocab)"
   ]
  },
  {
   "cell_type": "code",
   "execution_count": 39,
   "metadata": {},
   "outputs": [],
   "source": [
    "def doc_freq(word):\n",
    "    c = 0\n",
    "    try:\n",
    "        c = DF[word]\n",
    "    except:\n",
    "        pass\n",
    "    return c"
   ]
  },
  {
   "cell_type": "code",
   "execution_count": 57,
   "metadata": {},
   "outputs": [
    {
     "name": "stdout",
     "output_type": "stream",
     "text": [
      "15\n"
     ]
    }
   ],
   "source": [
    "doc = 0\n",
    "\n",
    "tf_idf = {}\n",
    "\n",
    "for i in range(N):\n",
    "    \n",
    "    tokens = processed_text[i]\n",
    "    \n",
    "    counter = Counter(tokens + processed_title[i])\n",
    "    words_count = len(tokens + processed_title[i])\n",
    "    \n",
    "    for token in np.unique(tokens):\n",
    "        \n",
    "        tf = counter[token]/words_count\n",
    "        df = doc_freq(token)\n",
    "#         df=no. of documents containing this word, in all documents how many this word is accuring\n",
    "        idf = np.log((N+1)/(df+1))\n",
    "        \n",
    "        tf_idf[doc, token] = tf*idf\n",
    "\n",
    "    doc += 1\n",
    "print (doc)"
   ]
  },
  {
   "cell_type": "code",
   "execution_count": 51,
   "metadata": {},
   "outputs": [],
   "source": [
    "doc = 0\n",
    "\n",
    "tf_idf_title = {}\n",
    "\n",
    "for i in range(N):\n",
    "    \n",
    "    tokens = processed_title[i]\n",
    "    counter = Counter(tokens + processed_text[i])\n",
    "    words_count = len(tokens + processed_text[i])\n",
    "\n",
    "    for token in np.unique(tokens):\n",
    "        \n",
    "        tf = counter[token]/words_count\n",
    "        df = doc_freq(token)\n",
    "        idf = np.log((N+1)/(df+1)) #numerator is added 1 to avoid negative values\n",
    "        \n",
    "        tf_idf_title[doc, token] = tf*idf\n",
    "\n",
    "    doc += 1"
   ]
  },
  {
   "cell_type": "code",
   "execution_count": 52,
   "metadata": {},
   "outputs": [],
   "source": [
    "for i in tf_idf:\n",
    "    tf_idf[i] *= alpha\n",
    "\n",
    "for i in tf_idf_title:\n",
    "    tf_idf[i] = tf_idf_title[i]"
   ]
  },
  {
   "cell_type": "code",
   "execution_count": 53,
   "metadata": {},
   "outputs": [
    {
     "data": {
      "text/plain": [
       "11852"
      ]
     },
     "execution_count": 53,
     "metadata": {},
     "output_type": "execute_result"
    }
   ],
   "source": [
    "len(tf_idf)"
   ]
  },
  {
   "cell_type": "code",
   "execution_count": 55,
   "metadata": {},
   "outputs": [
    {
     "name": "stdout",
     "output_type": "stream",
     "text": [
      "Matching Score\n",
      "\n",
      "Query: Without the drive of Rebeccah's insistence, Kate lost her momentum. She stood next a slatted oak bench, canisters still clutched, surveying\n",
      "\n",
      "['without', 'drive', 'rebeccah', 'insist', 'kate', 'lost', 'momentum', 'stood', 'next', 'slat', 'oak', 'bench', 'canist', 'still', 'clutch', 'survey']\n",
      "[(11, 0.0011398426080150177), (4, 0.0009620374367012203), (2, 0.0006726405324491299), (14, 0.0006662744500489751), (1, 0.0006443389719697403), (6, 0.0006440604934574291), (9, 0.000596803681450333), (3, 0.00042902117401386747), (8, 0.0004220368150114093), (12, 0.00040124527592417055), (13, 0.0003701485421405042), (7, 0.00027153926003823265), (0, 0.00022973723620816575), (10, 0.00022882598695889045), (5, 0.00017609775213734796)]\n",
      "[11, 4, 2, 14, 1, 6, 9, 3, 8, 12]\n"
     ]
    }
   ],
   "source": [
    "def matching_score(k, query):\n",
    "    preprocessed_query = preprocess(query)\n",
    "    tokens = word_tokenize(str(preprocessed_query))\n",
    "\n",
    "    print(\"Matching Score\")\n",
    "    print(\"\\nQuery:\", query)\n",
    "    print(\"\")\n",
    "    print(tokens)\n",
    "    \n",
    "    query_weights = {}\n",
    "\n",
    "    for key in tf_idf:\n",
    "        \n",
    "        if key[1] in tokens:\n",
    "            try:\n",
    "                query_weights[key[0]] += tf_idf[key]\n",
    "            except:\n",
    "                query_weights[key[0]] = tf_idf[key]\n",
    "    \n",
    "    query_weights = sorted(query_weights.items(), key=lambda x: x[1], reverse=True)\n",
    "\n",
    "    print(query_weights)\n",
    "    \n",
    "    l = []\n",
    "    \n",
    "    for i in query_weights[:10]:\n",
    "        l.append(i[0])\n",
    "    \n",
    "    print(l)\n",
    "    \n",
    "\n",
    "matching_score(10, \"Without the drive of Rebeccah's insistence, Kate lost her momentum. She stood next a slatted oak bench, canisters still clutched, surveying\")"
   ]
  },
  {
   "cell_type": "code",
   "execution_count": null,
   "metadata": {},
   "outputs": [],
   "source": []
  }
 ],
 "metadata": {
  "kernelspec": {
   "display_name": "Python 3",
   "language": "python",
   "name": "python3"
  },
  "language_info": {
   "codemirror_mode": {
    "name": "ipython",
    "version": 3
   },
   "file_extension": ".py",
   "mimetype": "text/x-python",
   "name": "python",
   "nbconvert_exporter": "python",
   "pygments_lexer": "ipython3",
   "version": "3.6.10"
  }
 },
 "nbformat": 4,
 "nbformat_minor": 4
}
